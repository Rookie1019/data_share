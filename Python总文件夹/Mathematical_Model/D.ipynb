{
 "cells": [
  {
   "cell_type": "code",
   "execution_count": 1,
   "metadata": {},
   "outputs": [],
   "source": [
    "import pandas as pd\n",
    "import numpy as np"
   ]
  },
  {
   "cell_type": "code",
   "execution_count": 3,
   "metadata": {},
   "outputs": [
    {
     "data": {
      "text/html": [
       "<div>\n",
       "<style scoped>\n",
       "    .dataframe tbody tr th:only-of-type {\n",
       "        vertical-align: middle;\n",
       "    }\n",
       "\n",
       "    .dataframe tbody tr th {\n",
       "        vertical-align: top;\n",
       "    }\n",
       "\n",
       "    .dataframe thead th {\n",
       "        text-align: right;\n",
       "    }\n",
       "</style>\n",
       "<table border=\"1\" class=\"dataframe\">\n",
       "  <thead>\n",
       "    <tr style=\"text-align: right;\">\n",
       "      <th></th>\n",
       "      <th>时间</th>\n",
       "      <th>GPS车速</th>\n",
       "      <th>X轴加速度</th>\n",
       "      <th>Y轴加速度</th>\n",
       "      <th>Z轴加速度</th>\n",
       "      <th>经度</th>\n",
       "      <th>纬度</th>\n",
       "      <th>发动机转速</th>\n",
       "      <th>扭矩百分比</th>\n",
       "      <th>瞬时油耗</th>\n",
       "      <th>油门踏板开度</th>\n",
       "      <th>空燃比</th>\n",
       "      <th>发动机负荷百分比</th>\n",
       "      <th>进气流量</th>\n",
       "    </tr>\n",
       "  </thead>\n",
       "  <tbody>\n",
       "    <tr>\n",
       "      <th>0</th>\n",
       "      <td>2017/12/18 13:42:13.000.</td>\n",
       "      <td>0.0</td>\n",
       "      <td>0.0</td>\n",
       "      <td>-0.396</td>\n",
       "      <td>-0.900</td>\n",
       "      <td>119.367781</td>\n",
       "      <td>25.992420</td>\n",
       "      <td>775</td>\n",
       "      <td>18</td>\n",
       "      <td>58.02</td>\n",
       "      <td>0.0</td>\n",
       "      <td>0.1465</td>\n",
       "      <td>22</td>\n",
       "      <td>2.30</td>\n",
       "    </tr>\n",
       "    <tr>\n",
       "      <th>1</th>\n",
       "      <td>2017/12/18 13:42:14.000.</td>\n",
       "      <td>0.0</td>\n",
       "      <td>0.0</td>\n",
       "      <td>-0.378</td>\n",
       "      <td>-0.882</td>\n",
       "      <td>119.367783</td>\n",
       "      <td>25.992418</td>\n",
       "      <td>775</td>\n",
       "      <td>17</td>\n",
       "      <td>60.30</td>\n",
       "      <td>0.0</td>\n",
       "      <td>0.1465</td>\n",
       "      <td>21</td>\n",
       "      <td>2.39</td>\n",
       "    </tr>\n",
       "    <tr>\n",
       "      <th>2</th>\n",
       "      <td>2017/12/18 13:42:15.000.</td>\n",
       "      <td>0.0</td>\n",
       "      <td>0.0</td>\n",
       "      <td>-0.396</td>\n",
       "      <td>-0.882</td>\n",
       "      <td>119.367785</td>\n",
       "      <td>25.992416</td>\n",
       "      <td>775</td>\n",
       "      <td>17</td>\n",
       "      <td>55.24</td>\n",
       "      <td>0.0</td>\n",
       "      <td>0.1464</td>\n",
       "      <td>22</td>\n",
       "      <td>2.19</td>\n",
       "    </tr>\n",
       "    <tr>\n",
       "      <th>3</th>\n",
       "      <td>2017/12/18 13:42:16.000.</td>\n",
       "      <td>0.0</td>\n",
       "      <td>0.0</td>\n",
       "      <td>-0.378</td>\n",
       "      <td>-0.900</td>\n",
       "      <td>119.367785</td>\n",
       "      <td>25.992416</td>\n",
       "      <td>762</td>\n",
       "      <td>17</td>\n",
       "      <td>55.75</td>\n",
       "      <td>0.0</td>\n",
       "      <td>0.1471</td>\n",
       "      <td>21</td>\n",
       "      <td>2.21</td>\n",
       "    </tr>\n",
       "    <tr>\n",
       "      <th>4</th>\n",
       "      <td>2017/12/18 13:42:17.000.</td>\n",
       "      <td>0.0</td>\n",
       "      <td>0.0</td>\n",
       "      <td>-0.396</td>\n",
       "      <td>-0.882</td>\n",
       "      <td>119.367785</td>\n",
       "      <td>25.992416</td>\n",
       "      <td>762</td>\n",
       "      <td>16</td>\n",
       "      <td>56.00</td>\n",
       "      <td>0.0</td>\n",
       "      <td>0.1471</td>\n",
       "      <td>21</td>\n",
       "      <td>2.22</td>\n",
       "    </tr>\n",
       "  </tbody>\n",
       "</table>\n",
       "</div>"
      ],
      "text/plain": [
       "                         时间  GPS车速  X轴加速度  Y轴加速度  Z轴加速度          经度  \\\n",
       "0  2017/12/18 13:42:13.000.    0.0    0.0 -0.396 -0.900  119.367781   \n",
       "1  2017/12/18 13:42:14.000.    0.0    0.0 -0.378 -0.882  119.367783   \n",
       "2  2017/12/18 13:42:15.000.    0.0    0.0 -0.396 -0.882  119.367785   \n",
       "3  2017/12/18 13:42:16.000.    0.0    0.0 -0.378 -0.900  119.367785   \n",
       "4  2017/12/18 13:42:17.000.    0.0    0.0 -0.396 -0.882  119.367785   \n",
       "\n",
       "          纬度  发动机转速  扭矩百分比   瞬时油耗  油门踏板开度     空燃比  发动机负荷百分比  进气流量  \n",
       "0  25.992420    775     18  58.02     0.0  0.1465        22  2.30  \n",
       "1  25.992418    775     17  60.30     0.0  0.1465        21  2.39  \n",
       "2  25.992416    775     17  55.24     0.0  0.1464        22  2.19  \n",
       "3  25.992416    762     17  55.75     0.0  0.1471        21  2.21  \n",
       "4  25.992416    762     16  56.00     0.0  0.1471        21  2.22  "
      ]
     },
     "execution_count": 3,
     "metadata": {},
     "output_type": "execute_result"
    }
   ],
   "source": [
    "data1 = pd.read_excel(r'C:\\Users\\Rookie\\Desktop\\数模\\npmcm2019d\\npmcm2019-D\\原始数据\\文件1.xlsx')\n",
    "data1.head()"
   ]
  },
  {
   "cell_type": "code",
   "execution_count": 6,
   "metadata": {},
   "outputs": [
    {
     "data": {
      "text/plain": [
       "(185725, 14)"
      ]
     },
     "execution_count": 6,
     "metadata": {},
     "output_type": "execute_result"
    }
   ],
   "source": [
    "data1.shape"
   ]
  },
  {
   "cell_type": "code",
   "execution_count": 7,
   "metadata": {},
   "outputs": [
    {
     "data": {
      "text/plain": [
       "0         0.0\n",
       "1         0.0\n",
       "2         0.0\n",
       "3         0.0\n",
       "4         0.0\n",
       "         ... \n",
       "185720    4.5\n",
       "185721    0.0\n",
       "185722    0.0\n",
       "185723    0.0\n",
       "185724    0.0\n",
       "Name: GPS车速, Length: 185725, dtype: float64"
      ]
     },
     "execution_count": 7,
     "metadata": {},
     "output_type": "execute_result"
    }
   ],
   "source": [
    "data1.iloc[:,1]"
   ]
  },
  {
   "cell_type": "code",
   "execution_count": 9,
   "metadata": {},
   "outputs": [
    {
     "data": {
      "text/plain": [
       "0.0      43400\n",
       "0.2        707\n",
       "0.1        493\n",
       "31.7       345\n",
       "28.5       331\n",
       "         ...  \n",
       "103.2        1\n",
       "107.8        1\n",
       "108.3        1\n",
       "99.0         1\n",
       "105.5        1\n",
       "Name: GPS车速, Length: 1084, dtype: int64"
      ]
     },
     "execution_count": 9,
     "metadata": {},
     "output_type": "execute_result"
    }
   ],
   "source": [
    "data1.iloc[:,1].value_counts(0)"
   ]
  },
  {
   "cell_type": "code",
   "execution_count": 2,
   "metadata": {},
   "outputs": [],
   "source": [
    "import scipy"
   ]
  },
  {
   "cell_type": "code",
   "execution_count": 4,
   "metadata": {},
   "outputs": [
    {
     "data": {
      "text/plain": [
       "'1.4.1'"
      ]
     },
     "execution_count": 4,
     "metadata": {},
     "output_type": "execute_result"
    }
   ],
   "source": [
    "scipy.__version__"
   ]
  },
  {
   "cell_type": "code",
   "execution_count": 8,
   "metadata": {},
   "outputs": [
    {
     "data": {
      "image/png": "[encoded data removed]",
      "text/plain": [
       "<Figure size 432x288 with 2 Axes>"
      ]
     },
     "metadata": {
      "needs_background": "light"
     },
     "output_type": "display_data"
    }
   ],
   "source": [
    "import matplotlib.pyplot as plt\n",
    "import numpy as np\n",
    "\n",
    "# Fixing random state for reproducibility\n",
    "np.random.seed(19680801)\n",
    "\n",
    "dt = 0.0005\n",
    "t = np.arange(0.0, 20.0, dt)\n",
    "s1 = np.sin(2 * np.pi * 100 * t)\n",
    "s2 = 2 * np.sin(2 * np.pi * 400 * t)\n",
    "\n",
    "# create a transient \"chirp\"\n",
    "s2[t <= 10] = s2[12 <= t] = 0\n",
    "\n",
    "# add some noise into the mix\n",
    "nse = 0.01 * np.random.random(size=len(t))\n",
    "\n",
    "x = s1 + s2 + nse  # the signal\n",
    "NFFT = 1024  # the length of the windowing segments\n",
    "Fs = int(1.0 / dt)  # the sampling frequency\n",
    "\n",
    "fig, (ax1, ax2) = plt.subplots(nrows=2)\n",
    "ax1.plot(t, x)\n",
    "Pxx, freqs, bins, im = ax2.specgram(x, NFFT=NFFT, Fs=Fs, noverlap=900)\n",
    "# The `specgram` method returns 4 objects. They are:\n",
    "# - Pxx: the periodogram\n",
    "# - freqs: the frequency vector\n",
    "# - bins: the centers of the time bins\n",
    "# - im: the .image.AxesImage instance representing the data in the plot\n",
    "plt.show()"
   ]
  },
  {
   "cell_type": "code",
   "execution_count": null,
   "metadata": {},
   "outputs": [],
   "source": []
  }
 ],
 "metadata": {
  "kernelspec": {
   "display_name": "Python 3",
   "language": "python",
   "name": "python3"
  },
  "language_info": {
   "codemirror_mode": {
    "name": "ipython",
    "version": 3
   },
   "file_extension": ".py",
   "mimetype": "text/x-python",
   "name": "python",
   "nbconvert_exporter": "python",
   "pygments_lexer": "ipython3",
   "version": "3.6.7"
  }
 },
 "nbformat": 4,
 "nbformat_minor": 4
}

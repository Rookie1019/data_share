{
 "cells": [
  {
   "cell_type": "code",
   "execution_count": 1,
   "metadata": {},
   "outputs": [],
   "source": [
    "import numpy as np\n",
    "import pandas as pd"
   ]
  },
  {
   "cell_type": "code",
   "execution_count": 3,
   "metadata": {},
   "outputs": [
    {
     "data": {
      "text/plain": [
       "a    0\n",
       "b    1\n",
       "c    2\n",
       "d    3\n",
       "e    4\n",
       "f    5\n",
       "g    6\n",
       "h    7\n",
       "i    8\n",
       "j    9\n",
       "dtype: int32"
      ]
     },
     "execution_count": 3,
     "metadata": {},
     "output_type": "execute_result"
    }
   ],
   "source": [
    "t = pd.Series(np.arange(10), index=list('abcdefghij'))\n",
    "t"
   ]
  },
  {
   "cell_type": "code",
   "execution_count": 4,
   "metadata": {},
   "outputs": [
    {
     "data": {
      "text/plain": [
       "Index(['a', 'b', 'c', 'd', 'e', 'f', 'g', 'h', 'i', 'j'], dtype='object')"
      ]
     },
     "execution_count": 4,
     "metadata": {},
     "output_type": "execute_result"
    }
   ],
   "source": [
    "t.index"
   ]
  },
  {
   "cell_type": "code",
   "execution_count": 6,
   "metadata": {},
   "outputs": [
    {
     "name": "stdout",
     "output_type": "stream",
     "text": [
      "<class 'pandas.core.frame.DataFrame'>\n",
      "RangeIndex: 327 entries, 0 to 326\n",
      "Columns: 368 entries, RON损失 to D101原料缓冲罐压力\n",
      "dtypes: float64(368)\n",
      "memory usage: 940.2 KB\n"
     ]
    }
   ],
   "source": [
    "file_path = r'C:\\Users\\Rookie\\Desktop\\附件一：325个样本数据 - 副本.xlsx'\n",
    "tf = pd.read_excel(file_path)\n",
    "tf.info()"
   ]
  },
  {
   "cell_type": "code",
   "execution_count": 7,
   "metadata": {},
   "outputs": [
    {
     "data": {
      "text/html": [
       "<div>\n",
       "<style scoped>\n",
       "    .dataframe tbody tr th:only-of-type {\n",
       "        vertical-align: middle;\n",
       "    }\n",
       "\n",
       "    .dataframe tbody tr th {\n",
       "        vertical-align: top;\n",
       "    }\n",
       "\n",
       "    .dataframe thead th {\n",
       "        text-align: right;\n",
       "    }\n",
       "</style>\n",
       "<table border=\"1\" class=\"dataframe\">\n",
       "  <thead>\n",
       "    <tr style=\"text-align: right;\">\n",
       "      <th></th>\n",
       "      <th>RON损失</th>\n",
       "      <th>原料_辛烷值RON</th>\n",
       "      <th>原料_硫含量,μg/g</th>\n",
       "      <th>饱和烃,v%（烷烃+环烷烃）</th>\n",
       "      <th>烯烃,v%</th>\n",
       "      <th>芳烃,v%</th>\n",
       "      <th>溴值\\n,gBr/100g</th>\n",
       "      <th>密度(20℃),\\nkg/m³</th>\n",
       "      <th>产品_硫含量,μg/g</th>\n",
       "      <th>产品_辛烷值RON</th>\n",
       "      <th>...</th>\n",
       "      <th>再生器藏量</th>\n",
       "      <th>加氢裂化轻石脑油进装置流量</th>\n",
       "      <th>汽油产品去气分流量</th>\n",
       "      <th>加氢裂化轻石脑油进装置累积流量</th>\n",
       "      <th>汽油产品去气分累积流量</th>\n",
       "      <th>8.0MPa氢气至循环氢压缩机入口</th>\n",
       "      <th>8.0MPa氢气至循环氢压缩机入口.1</th>\n",
       "      <th>8.0MPa氢气至反吹氢压缩机出口</th>\n",
       "      <th>8.0MPa氢气至反吹氢压缩机出口.1</th>\n",
       "      <th>D101原料缓冲罐压力</th>\n",
       "    </tr>\n",
       "  </thead>\n",
       "  <tbody>\n",
       "    <tr>\n",
       "      <th>0</th>\n",
       "      <td>1.38</td>\n",
       "      <td>90.6</td>\n",
       "      <td>188.0</td>\n",
       "      <td>53.230000</td>\n",
       "      <td>24.400000</td>\n",
       "      <td>22.370000</td>\n",
       "      <td>61.487143</td>\n",
       "      <td>726.085714</td>\n",
       "      <td>3.2</td>\n",
       "      <td>89.22</td>\n",
       "      <td>...</td>\n",
       "      <td>2.045436</td>\n",
       "      <td>6368.74700</td>\n",
       "      <td>233.310805</td>\n",
       "      <td>83086802.0</td>\n",
       "      <td>832503.795</td>\n",
       "      <td>2216.40935</td>\n",
       "      <td>39063124.5</td>\n",
       "      <td>1840.14470</td>\n",
       "      <td>39608757.0</td>\n",
       "      <td>0.353271</td>\n",
       "    </tr>\n",
       "    <tr>\n",
       "      <th>1</th>\n",
       "      <td>1.18</td>\n",
       "      <td>90.5</td>\n",
       "      <td>169.0</td>\n",
       "      <td>52.300000</td>\n",
       "      <td>26.400000</td>\n",
       "      <td>21.300000</td>\n",
       "      <td>61.880000</td>\n",
       "      <td>731.300000</td>\n",
       "      <td>3.2</td>\n",
       "      <td>89.32</td>\n",
       "      <td>...</td>\n",
       "      <td>2.025974</td>\n",
       "      <td>6360.64530</td>\n",
       "      <td>242.369205</td>\n",
       "      <td>82318954.0</td>\n",
       "      <td>803462.665</td>\n",
       "      <td>2370.58740</td>\n",
       "      <td>38810581.5</td>\n",
       "      <td>1641.73260</td>\n",
       "      <td>39389299.0</td>\n",
       "      <td>0.354504</td>\n",
       "    </tr>\n",
       "    <tr>\n",
       "      <th>2</th>\n",
       "      <td>1.38</td>\n",
       "      <td>90.7</td>\n",
       "      <td>177.0</td>\n",
       "      <td>52.300000</td>\n",
       "      <td>26.314286</td>\n",
       "      <td>21.385714</td>\n",
       "      <td>61.722857</td>\n",
       "      <td>729.614286</td>\n",
       "      <td>3.2</td>\n",
       "      <td>89.32</td>\n",
       "      <td>...</td>\n",
       "      <td>1.964696</td>\n",
       "      <td>6504.96490</td>\n",
       "      <td>233.076925</td>\n",
       "      <td>82012004.0</td>\n",
       "      <td>791925.055</td>\n",
       "      <td>2326.46535</td>\n",
       "      <td>38693812.0</td>\n",
       "      <td>1600.67575</td>\n",
       "      <td>39312616.5</td>\n",
       "      <td>0.350181</td>\n",
       "    </tr>\n",
       "    <tr>\n",
       "      <th>3</th>\n",
       "      <td>1.38</td>\n",
       "      <td>90.4</td>\n",
       "      <td>159.0</td>\n",
       "      <td>52.300000</td>\n",
       "      <td>26.100000</td>\n",
       "      <td>21.600000</td>\n",
       "      <td>61.330000</td>\n",
       "      <td>725.400000</td>\n",
       "      <td>3.2</td>\n",
       "      <td>89.02</td>\n",
       "      <td>...</td>\n",
       "      <td>2.039041</td>\n",
       "      <td>6506.82495</td>\n",
       "      <td>238.349935</td>\n",
       "      <td>81231373.5</td>\n",
       "      <td>762863.810</td>\n",
       "      <td>2495.22360</td>\n",
       "      <td>38410862.5</td>\n",
       "      <td>1563.71215</td>\n",
       "      <td>39120204.5</td>\n",
       "      <td>0.353930</td>\n",
       "    </tr>\n",
       "    <tr>\n",
       "      <th>4</th>\n",
       "      <td>1.28</td>\n",
       "      <td>89.6</td>\n",
       "      <td>173.0</td>\n",
       "      <td>52.242857</td>\n",
       "      <td>26.671429</td>\n",
       "      <td>21.085714</td>\n",
       "      <td>61.332857</td>\n",
       "      <td>725.428571</td>\n",
       "      <td>3.2</td>\n",
       "      <td>88.32</td>\n",
       "      <td>...</td>\n",
       "      <td>1.986900</td>\n",
       "      <td>6560.24225</td>\n",
       "      <td>236.576220</td>\n",
       "      <td>80915707.5</td>\n",
       "      <td>751362.300</td>\n",
       "      <td>2807.78910</td>\n",
       "      <td>38283000.0</td>\n",
       "      <td>1554.35740</td>\n",
       "      <td>39045953.5</td>\n",
       "      <td>0.358053</td>\n",
       "    </tr>\n",
       "  </tbody>\n",
       "</table>\n",
       "<p>5 rows × 368 columns</p>\n",
       "</div>"
      ],
      "text/plain": [
       "   RON损失  原料_辛烷值RON  原料_硫含量,μg/g  饱和烃,v%（烷烃+环烷烃）      烯烃,v%      芳烃,v%  \\\n",
       "0   1.38       90.6        188.0       53.230000  24.400000  22.370000   \n",
       "1   1.18       90.5        169.0       52.300000  26.400000  21.300000   \n",
       "2   1.38       90.7        177.0       52.300000  26.314286  21.385714   \n",
       "3   1.38       90.4        159.0       52.300000  26.100000  21.600000   \n",
       "4   1.28       89.6        173.0       52.242857  26.671429  21.085714   \n",
       "\n",
       "   溴值\\n,gBr/100g  密度(20℃),\\nkg/m³  产品_硫含量,μg/g  产品_辛烷值RON  ...     再生器藏量  \\\n",
       "0      61.487143       726.085714          3.2      89.22  ...  2.045436   \n",
       "1      61.880000       731.300000          3.2      89.32  ...  2.025974   \n",
       "2      61.722857       729.614286          3.2      89.32  ...  1.964696   \n",
       "3      61.330000       725.400000          3.2      89.02  ...  2.039041   \n",
       "4      61.332857       725.428571          3.2      88.32  ...  1.986900   \n",
       "\n",
       "   加氢裂化轻石脑油进装置流量   汽油产品去气分流量  加氢裂化轻石脑油进装置累积流量  汽油产品去气分累积流量  8.0MPa氢气至循环氢压缩机入口  \\\n",
       "0     6368.74700  233.310805       83086802.0   832503.795         2216.40935   \n",
       "1     6360.64530  242.369205       82318954.0   803462.665         2370.58740   \n",
       "2     6504.96490  233.076925       82012004.0   791925.055         2326.46535   \n",
       "3     6506.82495  238.349935       81231373.5   762863.810         2495.22360   \n",
       "4     6560.24225  236.576220       80915707.5   751362.300         2807.78910   \n",
       "\n",
       "   8.0MPa氢气至循环氢压缩机入口.1  8.0MPa氢气至反吹氢压缩机出口  8.0MPa氢气至反吹氢压缩机出口.1  D101原料缓冲罐压力  \n",
       "0           39063124.5         1840.14470           39608757.0     0.353271  \n",
       "1           38810581.5         1641.73260           39389299.0     0.354504  \n",
       "2           38693812.0         1600.67575           39312616.5     0.350181  \n",
       "3           38410862.5         1563.71215           39120204.5     0.353930  \n",
       "4           38283000.0         1554.35740           39045953.5     0.358053  \n",
       "\n",
       "[5 rows x 368 columns]"
      ]
     },
     "execution_count": 7,
     "metadata": {},
     "output_type": "execute_result"
    }
   ],
   "source": [
    "tf.head()"
   ]
  },
  {
   "cell_type": "code",
   "execution_count": null,
   "metadata": {},
   "outputs": [],
   "source": []
  }
 ],
 "metadata": {
  "kernelspec": {
   "display_name": "Python 3",
   "language": "python",
   "name": "python3"
  },
  "language_info": {
   "codemirror_mode": {
    "name": "ipython",
    "version": 3
   },
   "file_extension": ".py",
   "mimetype": "text/x-python",
   "name": "python",
   "nbconvert_exporter": "python",
   "pygments_lexer": "ipython3",
   "version": "3.6.7"
  }
 },
 "nbformat": 4,
 "nbformat_minor": 4
}
